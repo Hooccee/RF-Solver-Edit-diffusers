{
 "cells": [
  {
   "cell_type": "code",
   "execution_count": 1,
   "metadata": {},
   "outputs": [
    {
     "data": {
      "text/plain": [
       "tensor(21.6790)"
      ]
     },
     "execution_count": 1,
     "metadata": {},
     "output_type": "execute_result"
    }
   ],
   "source": [
    "import torch\n",
    "from torchmetrics.functional.multimodal import clip_score\n",
    "score = clip_score(torch.randint(255, (3, 1024, 1024)), \"a photo of a cat\", \"/data/chx/clip-vit-large-patch14\")\n",
    "score.detach()"
   ]
  },
  {
   "cell_type": "code",
   "execution_count": null,
   "metadata": {},
   "outputs": [
    {
     "ename": "TypeError",
     "evalue": "'Image' object is not subscriptable",
     "output_type": "error",
     "traceback": [
      "\u001b[0;31m---------------------------------------------------------------------------\u001b[0m",
      "\u001b[0;31mTypeError\u001b[0m                                 Traceback (most recent call last)",
      "Cell \u001b[0;32mIn[1], line 41\u001b[0m\n\u001b[1;32m     38\u001b[0m images \u001b[38;5;241m=\u001b[39m [load_and_preprocess_image(image_path) \u001b[38;5;28;01mfor\u001b[39;00m image_path \u001b[38;5;129;01min\u001b[39;00m image_paths]\n\u001b[1;32m     40\u001b[0m \u001b[38;5;66;03m# 计算并打印CLIP分数\u001b[39;00m\n\u001b[0;32m---> 41\u001b[0m sd_clip_score \u001b[38;5;241m=\u001b[39m \u001b[43mcalculate_clip_score\u001b[49m\u001b[43m(\u001b[49m\u001b[43mimages\u001b[49m\u001b[43m,\u001b[49m\u001b[43m \u001b[49m\u001b[43mprompts\u001b[49m\u001b[43m)\u001b[49m\n\u001b[1;32m     42\u001b[0m \u001b[38;5;28mprint\u001b[39m(\u001b[38;5;124mf\u001b[39m\u001b[38;5;124m\"\u001b[39m\u001b[38;5;124mCLIP score: \u001b[39m\u001b[38;5;132;01m{\u001b[39;00msd_clip_score\u001b[38;5;132;01m}\u001b[39;00m\u001b[38;5;124m\"\u001b[39m)\n",
      "Cell \u001b[0;32mIn[1], line 21\u001b[0m, in \u001b[0;36mcalculate_clip_score\u001b[0;34m(images, prompts)\u001b[0m\n\u001b[1;32m     20\u001b[0m \u001b[38;5;28;01mdef\u001b[39;00m \u001b[38;5;21mcalculate_clip_score\u001b[39m(images, prompts):\n\u001b[0;32m---> 21\u001b[0m     images_tensor \u001b[38;5;241m=\u001b[39m torch\u001b[38;5;241m.\u001b[39mstack([torch\u001b[38;5;241m.\u001b[39mtensor(image[\u001b[38;5;124m'\u001b[39m\u001b[38;5;124mpixel_values\u001b[39m\u001b[38;5;124m'\u001b[39m][\u001b[38;5;241m0\u001b[39m]) \u001b[38;5;28;01mfor\u001b[39;00m image \u001b[38;5;129;01min\u001b[39;00m images])\n\u001b[1;32m     22\u001b[0m     \u001b[38;5;66;03m# 将图像值归一化到 [0, 1] 范围内\u001b[39;00m\n\u001b[1;32m     23\u001b[0m     images_tensor \u001b[38;5;241m=\u001b[39m (images_tensor \u001b[38;5;241m-\u001b[39m images_tensor\u001b[38;5;241m.\u001b[39mmin()) \u001b[38;5;241m/\u001b[39m (images_tensor\u001b[38;5;241m.\u001b[39mmax() \u001b[38;5;241m-\u001b[39m images_tensor\u001b[38;5;241m.\u001b[39mmin())\n",
      "Cell \u001b[0;32mIn[1], line 21\u001b[0m, in \u001b[0;36m<listcomp>\u001b[0;34m(.0)\u001b[0m\n\u001b[1;32m     20\u001b[0m \u001b[38;5;28;01mdef\u001b[39;00m \u001b[38;5;21mcalculate_clip_score\u001b[39m(images, prompts):\n\u001b[0;32m---> 21\u001b[0m     images_tensor \u001b[38;5;241m=\u001b[39m torch\u001b[38;5;241m.\u001b[39mstack([torch\u001b[38;5;241m.\u001b[39mtensor(\u001b[43mimage\u001b[49m\u001b[43m[\u001b[49m\u001b[38;5;124;43m'\u001b[39;49m\u001b[38;5;124;43mpixel_values\u001b[39;49m\u001b[38;5;124;43m'\u001b[39;49m\u001b[43m]\u001b[49m[\u001b[38;5;241m0\u001b[39m]) \u001b[38;5;28;01mfor\u001b[39;00m image \u001b[38;5;129;01min\u001b[39;00m images])\n\u001b[1;32m     22\u001b[0m     \u001b[38;5;66;03m# 将图像值归一化到 [0, 1] 范围内\u001b[39;00m\n\u001b[1;32m     23\u001b[0m     images_tensor \u001b[38;5;241m=\u001b[39m (images_tensor \u001b[38;5;241m-\u001b[39m images_tensor\u001b[38;5;241m.\u001b[39mmin()) \u001b[38;5;241m/\u001b[39m (images_tensor\u001b[38;5;241m.\u001b[39mmax() \u001b[38;5;241m-\u001b[39m images_tensor\u001b[38;5;241m.\u001b[39mmin())\n",
      "\u001b[0;31mTypeError\u001b[0m: 'Image' object is not subscriptable"
     ]
    }
   ],
   "source": [
    "import os\n",
    "import torch\n",
    "from PIL import Image\n",
    "from torchvision import transforms\n",
    "from torchmetrics.functional.multimodal import clip_score\n",
    "from functools import partial\n",
    "\n",
    "from transformers import CLIPImageProcessor, CLIPModel, CLIPTokenizer\n",
    "\n",
    "# 定义CLIP评分函数\n",
    "clip_score_fn = partial(clip_score, model_name_or_path=\"/data/chx/clip-vit-large-patch14\")\n",
    "\n",
    "# 加载图片并进行预处理（保持原图尺寸）\n",
    "def load_and_preprocess_image(image_path):\n",
    "    image = Image.open(image_path).convert(\"RGB\")\n",
    "    return image\n",
    "\n",
    "\n",
    "# 计算CLIP分数\n",
    "def calculate_clip_score(images, prompts):\n",
    "    images_tensor = torch.stack([torch.tensor(image['pixel_values'][0]) for image in images])\n",
    "    clip_score_value = clip_score_fn(images_tensor, prompts).detach()\n",
    "    return round(float(clip_score_value), 4)\n",
    "\n",
    "# 图片路径列表\n",
    "image_paths = [\n",
    "    \"/home/chx/mySrc/diffusers/output/image.webp\"\n",
    "]\n",
    "\n",
    "# 对应的文本提示\n",
    "prompts = [\n",
    "    \"a tiny astronaut hatching from an egg on the moon\"\n",
    "]\n",
    "\n",
    "# 加载并预处理所有图片\n",
    "images = [load_and_preprocess_image(image_path) for image_path in image_paths]\n",
    "\n",
    "# 计算并打印CLIP分数\n",
    "sd_clip_score = calculate_clip_score(images, prompts)\n",
    "print(f\"CLIP score: {sd_clip_score}\")"
   ]
  },
  {
   "cell_type": "code",
   "execution_count": 1,
   "metadata": {},
   "outputs": [
    {
     "name": "stderr",
     "output_type": "stream",
     "text": [
      "  0%|          | 0/50 [00:00<?, ?it/s]It looks like you are trying to rescale already rescaled images. If the input images have pixel values between 0 and 1, set `do_rescale=False` to avoid rescaling them again.\n",
      "/tmp/ipykernel_834889/3008020916.py:70: FutureWarning: The behavior of DataFrame concatenation with empty or all-NA entries is deprecated. In a future version, this will no longer exclude empty or all-NA columns when determining the result dtypes. To retain the old behavior, exclude the relevant entries before the concat operation.\n",
      "  results = pd.concat([results, new_row], ignore_index=True)\n",
      "  2%|▏         | 1/50 [00:07<06:13,  7.63s/it]"
     ]
    },
    {
     "name": "stdout",
     "output_type": "stream",
     "text": [
      "文件名: /data/chx/EditEval_v1/Dataset/object_addition/1.jpg, Source Prompt: A deserted highway near snow mountains under a partly cloudy sky, Target Prompt: A red car on a deserted highway near snow mountains under a partly cloudy sky, CLIP分数: 14.9991\n"
     ]
    },
    {
     "name": "stderr",
     "output_type": "stream",
     "text": [
      "  4%|▍         | 2/50 [00:15<06:25,  8.04s/it]"
     ]
    },
    {
     "name": "stdout",
     "output_type": "stream",
     "text": [
      "文件名: /data/chx/EditEval_v1/Dataset/object_addition/2.jpg, Source Prompt: A tranquil lake surrounded by dense forests and mountains under a clear blue sky, Target Prompt: A canoe on the tranquil lake surrounded by dense forests and mountains under a clear blue sky, CLIP分数: 15.001\n"
     ]
    },
    {
     "name": "stderr",
     "output_type": "stream",
     "text": [
      "  6%|▌         | 3/50 [00:24<06:20,  8.09s/it]"
     ]
    },
    {
     "name": "stdout",
     "output_type": "stream",
     "text": [
      "文件名: /data/chx/EditEval_v1/Dataset/object_addition/3.jpg, Source Prompt: A plant near a lamp on a table with a wooden clock on the wall, Target Prompt: A book on the table near a plant and a lamp with a wooden clock on the wall, CLIP分数: 15.4499\n"
     ]
    },
    {
     "name": "stderr",
     "output_type": "stream",
     "text": [
      "  8%|▊         | 4/50 [00:32<06:15,  8.16s/it]"
     ]
    },
    {
     "name": "stdout",
     "output_type": "stream",
     "text": [
      "文件名: /data/chx/EditEval_v1/Dataset/object_addition/4.jpg, Source Prompt: A bench under a tree with fallen leaves on the ground and a historic building in the background, Target Prompt: A doll on the bench under a tree with fallen leaves on the ground and a historic building in the background, CLIP分数: 13.6033\n"
     ]
    },
    {
     "name": "stderr",
     "output_type": "stream",
     "text": [
      " 10%|█         | 5/50 [00:40<06:07,  8.16s/it]"
     ]
    },
    {
     "name": "stdout",
     "output_type": "stream",
     "text": [
      "文件名: /data/chx/EditEval_v1/Dataset/object_addition/5.jpg, Source Prompt: An empty room with hardwood floors, white walls, and a large window showing trees outside, Target Prompt: A blue sofa in the center of an room with hardwood floors, white walls, and a large window showing trees outside, CLIP分数: 17.7302\n"
     ]
    },
    {
     "name": "stderr",
     "output_type": "stream",
     "text": [
      " 12%|█▏        | 6/50 [00:48<05:58,  8.15s/it]"
     ]
    },
    {
     "name": "stdout",
     "output_type": "stream",
     "text": [
      "文件名: /data/chx/EditEval_v1/Dataset/object_addition/6.jpg, Source Prompt: An orange cat sitting attentively on a red-painted curb against a white background, Target Prompt: A butterfly near an orange cat sitting attentively on a red-painted curb against a white background, CLIP分数: 13.2354\n"
     ]
    },
    {
     "name": "stderr",
     "output_type": "stream",
     "text": [
      " 14%|█▍        | 7/50 [00:56<05:48,  8.11s/it]"
     ]
    },
    {
     "name": "stdout",
     "output_type": "stream",
     "text": [
      "文件名: /data/chx/EditEval_v1/Dataset/object_addition/7.jpg, Source Prompt: A stack of cookies on a wooden board with a gray background, Target Prompt: A glass of milk next to a stack of cookies on a wooden board with a gray background, CLIP分数: 16.6183\n"
     ]
    },
    {
     "name": "stderr",
     "output_type": "stream",
     "text": [
      " 16%|█▌        | 8/50 [01:04<05:33,  7.94s/it]"
     ]
    },
    {
     "name": "stdout",
     "output_type": "stream",
     "text": [
      "文件名: /data/chx/EditEval_v1/Dataset/object_addition/8.jpg, Source Prompt: A camel walking on a desert, Target Prompt: A flamingo standing on a camel walking on a desert, CLIP分数: 17.4958\n"
     ]
    },
    {
     "name": "stderr",
     "output_type": "stream",
     "text": [
      " 18%|█▊        | 9/50 [01:12<05:26,  7.97s/it]"
     ]
    },
    {
     "name": "stdout",
     "output_type": "stream",
     "text": [
      "文件名: /data/chx/EditEval_v1/Dataset/object_replacement/1.jpg, Source Prompt: A llama toy standing next to a potted plant in a cozy room, Target Prompt: A floor lamp standing next to a potted plant in a cozy room, CLIP分数: 15.0977\n"
     ]
    },
    {
     "name": "stderr",
     "output_type": "stream",
     "text": [
      " 20%|██        | 10/50 [01:19<05:13,  7.83s/it]"
     ]
    },
    {
     "name": "stdout",
     "output_type": "stream",
     "text": [
      "文件名: /data/chx/EditEval_v1/Dataset/object_replacement/2.jpg, Source Prompt: A wolf stands in a forest, Target Prompt: A rock sits in a forest, CLIP分数: 16.0338\n"
     ]
    },
    {
     "name": "stderr",
     "output_type": "stream",
     "text": [
      " 22%|██▏       | 11/50 [01:28<05:09,  7.94s/it]"
     ]
    },
    {
     "name": "stdout",
     "output_type": "stream",
     "text": [
      "文件名: /data/chx/EditEval_v1/Dataset/object_replacement/3.jpg, Source Prompt: A cluster of coconuts attached to a palm tree, Target Prompt: A cluster of lanterns on a palm tree, CLIP分数: 14.0234\n"
     ]
    },
    {
     "name": "stderr",
     "output_type": "stream",
     "text": [
      " 24%|██▍       | 12/50 [01:35<04:57,  7.84s/it]"
     ]
    },
    {
     "name": "stdout",
     "output_type": "stream",
     "text": [
      "文件名: /data/chx/EditEval_v1/Dataset/object_replacement/4.jpg, Source Prompt: A person holding a handbag, Target Prompt: A person holding a box, CLIP分数: 18.7787\n"
     ]
    },
    {
     "name": "stderr",
     "output_type": "stream",
     "text": [
      " 26%|██▌       | 13/50 [01:42<04:41,  7.61s/it]"
     ]
    },
    {
     "name": "stdout",
     "output_type": "stream",
     "text": [
      "文件名: /data/chx/EditEval_v1/Dataset/object_replacement/5.jpg, Source Prompt: A car with surfboards on top, Target Prompt: A car with bushes on top, CLIP分数: 16.8818\n"
     ]
    },
    {
     "name": "stderr",
     "output_type": "stream",
     "text": [
      " 28%|██▊       | 14/50 [01:50<04:32,  7.58s/it]"
     ]
    },
    {
     "name": "stdout",
     "output_type": "stream",
     "text": [
      "文件名: /data/chx/EditEval_v1/Dataset/object_replacement/6.jpg, Source Prompt: A road sign stands beside a rural highway, Target Prompt: A mailbox stands beside the rural highway, CLIP分数: 17.1432\n"
     ]
    },
    {
     "name": "stderr",
     "output_type": "stream",
     "text": [
      " 30%|███       | 15/50 [01:58<04:30,  7.72s/it]"
     ]
    },
    {
     "name": "stdout",
     "output_type": "stream",
     "text": [
      "文件名: /data/chx/EditEval_v1/Dataset/object_replacement/7.jpg, Source Prompt: A white mug filled with yellow dandelions on a table, Target Prompt: A white mug filled with cute puppies on the table, CLIP分数: 15.7437\n"
     ]
    },
    {
     "name": "stderr",
     "output_type": "stream",
     "text": [
      " 32%|███▏      | 16/50 [02:06<04:27,  7.86s/it]"
     ]
    },
    {
     "name": "stdout",
     "output_type": "stream",
     "text": [
      "文件名: /data/chx/EditEval_v1/Dataset/object_replacement/8.jpg, Source Prompt: A red cabin on a rocky outcrop by the sea, Target Prompt: A blue dome on a rocky outcrop by the sea, CLIP分数: 12.7941\n"
     ]
    },
    {
     "name": "stderr",
     "output_type": "stream",
     "text": [
      " 34%|███▍      | 17/50 [02:14<04:22,  7.95s/it]"
     ]
    },
    {
     "name": "stdout",
     "output_type": "stream",
     "text": [
      "文件名: /data/chx/EditEval_v1/Dataset/object_removel/1.jpg, Source Prompt: A wooden bench in front of a lush green hill with trees, Target Prompt: A lush green hill with trees, CLIP分数: 14.8329\n"
     ]
    },
    {
     "name": "stderr",
     "output_type": "stream",
     "text": [
      " 36%|███▌      | 18/50 [02:22<04:18,  8.07s/it]"
     ]
    },
    {
     "name": "stdout",
     "output_type": "stream",
     "text": [
      "文件名: /data/chx/EditEval_v1/Dataset/object_removel/2.jpg, Source Prompt: A bicycle with a basket parked against a rustic wall with vines, Target Prompt: A rustic wall with vines, CLIP分数: 14.7521\n"
     ]
    },
    {
     "name": "stderr",
     "output_type": "stream",
     "text": [
      " 38%|███▊      | 19/50 [02:31<04:10,  8.08s/it]"
     ]
    },
    {
     "name": "stdout",
     "output_type": "stream",
     "text": [
      "文件名: /data/chx/EditEval_v1/Dataset/object_removel/3.jpg, Source Prompt: A cup of coffee on an unmade bed, Target Prompt: An unmade bed, CLIP分数: 16.8346\n"
     ]
    },
    {
     "name": "stderr",
     "output_type": "stream",
     "text": [
      " 40%|████      | 20/50 [02:38<03:55,  7.86s/it]"
     ]
    },
    {
     "name": "stdout",
     "output_type": "stream",
     "text": [
      "文件名: /data/chx/EditEval_v1/Dataset/object_removel/4.jpg, Source Prompt: A person sitting at the seaside with rocks, Target Prompt: A seaside with rocks, CLIP分数: 15.7762\n"
     ]
    },
    {
     "name": "stderr",
     "output_type": "stream",
     "text": [
      " 42%|████▏     | 21/50 [02:46<03:51,  7.98s/it]"
     ]
    },
    {
     "name": "stdout",
     "output_type": "stream",
     "text": [
      "文件名: /data/chx/EditEval_v1/Dataset/object_removel/5.jpg, Source Prompt: A cup of coffee and a pair of glasses near an open book, Target Prompt: An open book, CLIP分数: 16.2651\n"
     ]
    },
    {
     "name": "stderr",
     "output_type": "stream",
     "text": [
      " 44%|████▍     | 22/50 [02:54<03:43,  7.98s/it]"
     ]
    },
    {
     "name": "stdout",
     "output_type": "stream",
     "text": [
      "文件名: /data/chx/EditEval_v1/Dataset/object_removel/6.jpg, Source Prompt: A person with an umbrella walking across a busy city street, Target Prompt: A busy city street, CLIP分数: 17.1518\n"
     ]
    },
    {
     "name": "stderr",
     "output_type": "stream",
     "text": [
      " 46%|████▌     | 23/50 [03:02<03:35,  7.99s/it]"
     ]
    },
    {
     "name": "stdout",
     "output_type": "stream",
     "text": [
      "文件名: /data/chx/EditEval_v1/Dataset/object_removel/7.jpg, Source Prompt: A wooden house with a dock on a mountain lake, Target Prompt: A mountain lake, CLIP分数: 16.1133\n"
     ]
    },
    {
     "name": "stderr",
     "output_type": "stream",
     "text": [
      " 48%|████▊     | 24/50 [03:09<03:21,  7.76s/it]"
     ]
    },
    {
     "name": "stdout",
     "output_type": "stream",
     "text": [
      "文件名: /data/chx/EditEval_v1/Dataset/object_removel/8.jpg, Source Prompt: Four women in long dresses walk down a hallway, Target Prompt: A hallway, CLIP分数: 17.2781\n"
     ]
    },
    {
     "name": "stderr",
     "output_type": "stream",
     "text": [
      " 50%|█████     | 25/50 [03:17<03:12,  7.72s/it]"
     ]
    },
    {
     "name": "stdout",
     "output_type": "stream",
     "text": [
      "文件名: /data/chx/EditEval_v1/Dataset/background_change/1.jpg, Source Prompt: A man stands on mountains, Target Prompt: A man stands at a seaside, CLIP分数: 17.2404\n"
     ]
    },
    {
     "name": "stderr",
     "output_type": "stream",
     "text": [
      " 52%|█████▏    | 26/50 [03:25<03:05,  7.75s/it]"
     ]
    },
    {
     "name": "stdout",
     "output_type": "stream",
     "text": [
      "文件名: /data/chx/EditEval_v1/Dataset/background_change/2.jpg, Source Prompt: A person sits on a desert, Target Prompt: A person sits in a bedroom, CLIP分数: 17.3068\n"
     ]
    },
    {
     "name": "stderr",
     "output_type": "stream",
     "text": [
      " 54%|█████▍    | 27/50 [03:32<02:56,  7.68s/it]"
     ]
    },
    {
     "name": "stdout",
     "output_type": "stream",
     "text": [
      "文件名: /data/chx/EditEval_v1/Dataset/background_change/3.jpg, Source Prompt: A person stands on a snowy mountain range, Target Prompt: A person stands in a tropical rainforest, CLIP分数: 17.2819\n"
     ]
    },
    {
     "name": "stderr",
     "output_type": "stream",
     "text": [
      " 56%|█████▌    | 28/50 [03:40<02:51,  7.78s/it]"
     ]
    },
    {
     "name": "stdout",
     "output_type": "stream",
     "text": [
      "文件名: /data/chx/EditEval_v1/Dataset/background_change/4.jpg, Source Prompt: A woman leans on a wooden post at a field, Target Prompt: A woman leans on a wooden post at a street, CLIP分数: 15.1445\n"
     ]
    },
    {
     "name": "stderr",
     "output_type": "stream",
     "text": [
      " 58%|█████▊    | 29/50 [03:48<02:45,  7.88s/it]"
     ]
    },
    {
     "name": "stdout",
     "output_type": "stream",
     "text": [
      "文件名: /data/chx/EditEval_v1/Dataset/background_change/5.jpg, Source Prompt: A person sits on a paddleboard on a lake, Target Prompt: A person sits on a paddleboard on a desert, CLIP分数: 15.8188\n"
     ]
    },
    {
     "name": "stderr",
     "output_type": "stream",
     "text": [
      " 60%|██████    | 30/50 [03:56<02:35,  7.80s/it]"
     ]
    },
    {
     "name": "stdout",
     "output_type": "stream",
     "text": [
      "文件名: /data/chx/EditEval_v1/Dataset/background_change/6.jpg, Source Prompt: A white fox sitting on a snowland, Target Prompt: A white fox sitting on a beach, CLIP分数: 16.6188\n"
     ]
    },
    {
     "name": "stderr",
     "output_type": "stream",
     "text": [
      " 62%|██████▏   | 31/50 [04:04<02:30,  7.90s/it]"
     ]
    },
    {
     "name": "stdout",
     "output_type": "stream",
     "text": [
      "文件名: /data/chx/EditEval_v1/Dataset/background_change/7.jpg, Source Prompt: Several Rhinoceroses on an African plain, Target Prompt: Several Rhinoceroses on Mars, CLIP分数: 19.3763\n"
     ]
    },
    {
     "name": "stderr",
     "output_type": "stream",
     "text": [
      " 64%|██████▍   | 32/50 [04:12<02:20,  7.83s/it]"
     ]
    },
    {
     "name": "stdout",
     "output_type": "stream",
     "text": [
      "文件名: /data/chx/EditEval_v1/Dataset/background_change/8.jpg, Source Prompt: A silver car parked at a city street, Target Prompt: A silver car parked at a dense jungle, CLIP分数: 15.2788\n"
     ]
    },
    {
     "name": "stderr",
     "output_type": "stream",
     "text": [
      " 66%|██████▌   | 33/50 [04:20<02:14,  7.89s/it]"
     ]
    },
    {
     "name": "stdout",
     "output_type": "stream",
     "text": [
      "文件名: /data/chx/EditEval_v1/Dataset/style_change/1.jpg, Source Prompt: A church on top of a mountain surrounded by trees, Target Prompt: A watercolor painting of a church on top of a mountain surrounded by trees, CLIP分数: 15.3843\n"
     ]
    },
    {
     "name": "stderr",
     "output_type": "stream",
     "text": [
      " 68%|██████▊   | 34/50 [04:27<02:03,  7.74s/it]"
     ]
    },
    {
     "name": "stdout",
     "output_type": "stream",
     "text": [
      "文件名: /data/chx/EditEval_v1/Dataset/style_change/2.jpg, Source Prompt: A light house sitting on a cliff next to the ocean, Target Prompt: A Van Gogh style painting of a light house sitting on a cliff next to the ocean, CLIP分数: 14.7721\n"
     ]
    },
    {
     "name": "stderr",
     "output_type": "stream",
     "text": [
      " 70%|███████   | 35/50 [04:35<01:57,  7.85s/it]"
     ]
    },
    {
     "name": "stdout",
     "output_type": "stream",
     "text": [
      "文件名: /data/chx/EditEval_v1/Dataset/style_change/3.jpg, Source Prompt: A cityscape with skyscrapers and a park, Target Prompt: A cyberpunk style of a cityscape with skyscrapers and a park, CLIP分数: 17.217\n"
     ]
    },
    {
     "name": "stderr",
     "output_type": "stream",
     "text": [
      " 72%|███████▏  | 36/50 [04:43<01:48,  7.76s/it]"
     ]
    },
    {
     "name": "stdout",
     "output_type": "stream",
     "text": [
      "文件名: /data/chx/EditEval_v1/Dataset/style_change/4.jpg, Source Prompt: A countryside field with houses and trees, Target Prompt: A Japanese anime style of a countryside field with houses and trees, CLIP分数: 15.3209\n"
     ]
    },
    {
     "name": "stderr",
     "output_type": "stream",
     "text": [
      " 74%|███████▍  | 37/50 [04:51<01:41,  7.80s/it]"
     ]
    },
    {
     "name": "stdout",
     "output_type": "stream",
     "text": [
      "文件名: /data/chx/EditEval_v1/Dataset/style_change/5.jpg, Source Prompt: A winding road in the middle of a large green landscape, Target Prompt: A winding road in the middle of a large green landscape in winter, CLIP分数: 14.9861\n"
     ]
    },
    {
     "name": "stderr",
     "output_type": "stream",
     "text": [
      " 76%|███████▌  | 38/50 [04:58<01:32,  7.70s/it]"
     ]
    },
    {
     "name": "stdout",
     "output_type": "stream",
     "text": [
      "文件名: /data/chx/EditEval_v1/Dataset/style_change/6.jpg, Source Prompt: A grassy field with yellow flowers near mountains, Target Prompt: A grassy field with yellow flowers near mountains in autumn, CLIP分数: 11.683\n"
     ]
    },
    {
     "name": "stderr",
     "output_type": "stream",
     "text": [
      " 78%|███████▊  | 39/50 [05:06<01:25,  7.81s/it]"
     ]
    },
    {
     "name": "stdout",
     "output_type": "stream",
     "text": [
      "文件名: /data/chx/EditEval_v1/Dataset/style_change/7.jpg, Source Prompt: A woman standing on a beach next to the ocean, Target Prompt: A woman standing on a beach next to the ocean at sunset, CLIP分数: 17.5402\n"
     ]
    },
    {
     "name": "stderr",
     "output_type": "stream",
     "text": [
      " 80%|████████  | 40/50 [05:14<01:18,  7.87s/it]"
     ]
    },
    {
     "name": "stdout",
     "output_type": "stream",
     "text": [
      "文件名: /data/chx/EditEval_v1/Dataset/style_change/8.jpg, Source Prompt: An orange car parked in a parking lot in front of tall buildings, Target Prompt: An orange car parked in a parking lot in front of tall buildings at night, CLIP分数: 14.0297\n"
     ]
    },
    {
     "name": "stderr",
     "output_type": "stream",
     "text": [
      " 82%|████████▏ | 41/50 [05:22<01:10,  7.78s/it]"
     ]
    },
    {
     "name": "stdout",
     "output_type": "stream",
     "text": [
      "文件名: /data/chx/EditEval_v1/Dataset/texture_change/1.jpg, Source Prompt: A kitten sitting on a sofa, Target Prompt: A metal kitten sitting on a sofa, CLIP分数: 17.1901\n"
     ]
    },
    {
     "name": "stderr",
     "output_type": "stream",
     "text": [
      " 84%|████████▍ | 42/50 [05:29<01:01,  7.65s/it]"
     ]
    },
    {
     "name": "stdout",
     "output_type": "stream",
     "text": [
      "文件名: /data/chx/EditEval_v1/Dataset/texture_change/2.jpg, Source Prompt: A white horse running in a field, Target Prompt: A statue of a horse running in a field, CLIP分数: 19.4851\n"
     ]
    },
    {
     "name": "stderr",
     "output_type": "stream",
     "text": [
      " 86%|████████▌ | 43/50 [05:38<00:54,  7.83s/it]"
     ]
    },
    {
     "name": "stdout",
     "output_type": "stream",
     "text": [
      "文件名: /data/chx/EditEval_v1/Dataset/texture_change/3.jpg, Source Prompt: A chocolate cake on a plate with a fork, Target Prompt: A plastic chocolate cake on a plate with a fork, CLIP分数: 17.8005\n"
     ]
    },
    {
     "name": "stderr",
     "output_type": "stream",
     "text": [
      " 88%|████████▊ | 44/50 [05:46<00:47,  7.90s/it]"
     ]
    },
    {
     "name": "stdout",
     "output_type": "stream",
     "text": [
      "文件名: /data/chx/EditEval_v1/Dataset/texture_change/4.jpg, Source Prompt: A person carrying a leather handbag with a fluffy keychain, Target Prompt: A person carrying a glass handbag with a fluffy keychain, CLIP分数: 16.2964\n"
     ]
    },
    {
     "name": "stderr",
     "output_type": "stream",
     "text": [
      " 90%|█████████ | 45/50 [05:53<00:38,  7.77s/it]"
     ]
    },
    {
     "name": "stdout",
     "output_type": "stream",
     "text": [
      "文件名: /data/chx/EditEval_v1/Dataset/texture_change/5.jpg, Source Prompt: A rose in bloom, Target Prompt: A wooden rose in bloom, CLIP分数: 16.1369\n"
     ]
    },
    {
     "name": "stderr",
     "output_type": "stream",
     "text": [
      " 92%|█████████▏| 46/50 [06:01<00:30,  7.72s/it]"
     ]
    },
    {
     "name": "stdout",
     "output_type": "stream",
     "text": [
      "文件名: /data/chx/EditEval_v1/Dataset/texture_change/6.jpg, Source Prompt: A black church, Target Prompt: An ice church, CLIP分数: 18.7015\n"
     ]
    },
    {
     "name": "stderr",
     "output_type": "stream",
     "text": [
      " 94%|█████████▍| 47/50 [06:08<00:23,  7.70s/it]"
     ]
    },
    {
     "name": "stdout",
     "output_type": "stream",
     "text": [
      "文件名: /data/chx/EditEval_v1/Dataset/action_change/1.jpg, Source Prompt: A white horse standing in the grass, Target Prompt: A white horse running in the grass, CLIP分数: 16.2973\n"
     ]
    },
    {
     "name": "stderr",
     "output_type": "stream",
     "text": [
      " 96%|█████████▌| 48/50 [06:16<00:15,  7.64s/it]"
     ]
    },
    {
     "name": "stdout",
     "output_type": "stream",
     "text": [
      "文件名: /data/chx/EditEval_v1/Dataset/action_change/2.jpg, Source Prompt: A polar bear standing beside the sea, Target Prompt: A polar bear raising its hand, CLIP分数: 17.3885\n"
     ]
    },
    {
     "name": "stderr",
     "output_type": "stream",
     "text": [
      " 98%|█████████▊| 49/50 [06:23<00:07,  7.60s/it]"
     ]
    },
    {
     "name": "stdout",
     "output_type": "stream",
     "text": [
      "文件名: /data/chx/EditEval_v1/Dataset/action_change/3.jpg, Source Prompt: A dog standing on the ground, Target Prompt: A dog jumping on the ground, CLIP分数: 19.4331\n"
     ]
    },
    {
     "name": "stderr",
     "output_type": "stream",
     "text": [
      "100%|██████████| 50/50 [06:31<00:00,  7.83s/it]"
     ]
    },
    {
     "name": "stdout",
     "output_type": "stream",
     "text": [
      "文件名: /data/chx/EditEval_v1/Dataset/action_change/4.jpg, Source Prompt: A bird on the tree, Target Prompt: A bird is flying over the tree, CLIP分数: 16.8844\n"
     ]
    },
    {
     "name": "stderr",
     "output_type": "stream",
     "text": [
      "\n"
     ]
    }
   ],
   "source": [
    "import os\n",
    "import torch\n",
    "from PIL import Image\n",
    "from torchvision import transforms\n",
    "from torchmetrics.functional.multimodal import clip_score\n",
    "from functools import partial\n",
    "import pandas as pd\n",
    "from transformers import CLIPImageProcessor, CLIPModel, CLIPTokenizer\n",
    "from tqdm import tqdm\n",
    "\n",
    "# 设置环境变量\n",
    "os.environ['MKL_SERVICE_FORCE_INTEL'] = '1'\n",
    "os.environ['MKL_THREADING_LAYER'] = 'Intel'\n",
    "os.environ[\"CUDA_VISIBLE_DEVICES\"] = '2'\n",
    "\n",
    "# 定义CLIP评分函数\n",
    "clip_score_fn = partial(clip_score, model_name_or_path=\"/data/chx/clip-vit-large-patch14\")\n",
    "\n",
    "# 加载图片并进行预处理（保持原图尺寸）\n",
    "def load_and_preprocess_image(image_path):\n",
    "    preprocess = CLIPImageProcessor.from_pretrained(\"/data/chx/clip-vit-large-patch14\")\n",
    "    image = Image.open(image_path).convert(\"RGB\")\n",
    "    image = preprocess(image, return_tensors=\"pt\", do_rescale=False)\n",
    "    image['pixel_values'] = torch.clamp(image['pixel_values'], 0, 1)  # 归一化处理\n",
    "    return image\n",
    "\n",
    "# 计算CLIP分数\n",
    "def calculate_clip_score(images, prompts):\n",
    "    images_tensor = torch.stack([image['pixel_values'][0] for image in images])\n",
    "    clip_score_value = clip_score_fn(images_tensor, prompts).detach()\n",
    "    return round(float(clip_score_value), 4)\n",
    "\n",
    "# 批量计算图片的CLIP分数并存入Excel\n",
    "def batch_calculate_clip_score(excel_path, output_excel_path):\n",
    "    # 读取Excel文件\n",
    "    data = pd.read_excel(excel_path)\n",
    "    \n",
    "    # 创建一个新的DataFrame用于存储结果\n",
    "    results = pd.DataFrame(columns=['Image Path', 'Source Prompt', 'Target Prompt', 'CLIP Score'])\n",
    "    \n",
    "    # 创建一个字典用于跟踪每种编辑类别的行序号\n",
    "    class_row_counters = {}\n",
    "\n",
    "    # 遍历Excel表中的每一行，使用tqdm显示进度条\n",
    "    for index, row in tqdm(data.iterrows(), total=len(data)):\n",
    "        # 提取信息\n",
    "        edit_class = row['Edit Class']\n",
    "        source_prompt = row['Source Prompt']\n",
    "        target_prompt = row['Target Prompt']\n",
    "        \n",
    "        # 如果是新出现的编辑类别，初始化其计数\n",
    "        if edit_class not in class_row_counters:\n",
    "            class_row_counters[edit_class] = 1\n",
    "        else:\n",
    "            class_row_counters[edit_class] += 1\n",
    "        \n",
    "        # 根据编辑类别和类内的行序号生成图片路径\n",
    "        class_row_number = class_row_counters[edit_class]\n",
    "        source_img_path = f\"/data/chx/EditEval_v1/Dataset/{edit_class}/{class_row_number}.jpg\"\n",
    "        \n",
    "        # 加载并预处理图片\n",
    "        image = load_and_preprocess_image(source_img_path)\n",
    "        \n",
    "        # 计算CLIP分数\n",
    "        clip_score_value = calculate_clip_score([image], [source_prompt])\n",
    "        \n",
    "        # 将结果添加到DataFrame\n",
    "        new_row = pd.DataFrame({'Image Path': [source_img_path], 'Source Prompt': [source_prompt], 'Target Prompt': [target_prompt], 'CLIP Score': [clip_score_value]})\n",
    "        if not new_row.empty:\n",
    "            results = pd.concat([results, new_row], ignore_index=True)\n",
    "        \n",
    "        # 输出当前文件名、Prompt、CLIP分数\n",
    "        print(f\"文件名: {source_img_path}, Source Prompt: {source_prompt}, Target Prompt: {target_prompt}, CLIP分数: {clip_score_value}\")\n",
    "    \n",
    "    # 将结果写入新的Excel文件\n",
    "    results.to_excel(output_excel_path, index=False)\n",
    "\n",
    "if __name__ == \"__main__\":\n",
    "    # 设置参数\n",
    "    excel_path = \"/data/chx/EditEval_v1/Dataset/editing_prompts_collection.xlsx\"\n",
    "    output_excel_path = \"/data/chx/EditEval_v1/output_clip_scores.xlsx\"\n",
    "\n",
    "    # 执行批量计算\n",
    "    batch_calculate_clip_score(excel_path, output_excel_path)"
   ]
  }
 ],
 "metadata": {
  "kernelspec": {
   "display_name": "RF-Solver-Edit-diffusers",
   "language": "python",
   "name": "python3"
  },
  "language_info": {
   "codemirror_mode": {
    "name": "ipython",
    "version": 3
   },
   "file_extension": ".py",
   "mimetype": "text/x-python",
   "name": "python",
   "nbconvert_exporter": "python",
   "pygments_lexer": "ipython3",
   "version": "3.10.15"
  }
 },
 "nbformat": 4,
 "nbformat_minor": 2
}
