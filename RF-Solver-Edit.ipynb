{
 "cells": [
  {
   "cell_type": "code",
   "execution_count": 1,
   "metadata": {},
   "outputs": [
    {
     "data": {
      "application/vnd.jupyter.widget-view+json": {
       "model_id": "787a7f86e90848c2a06e4d8b616992ce",
       "version_major": 2,
       "version_minor": 0
      },
      "text/plain": [
       "Loading pipeline components...:   0%|          | 0/7 [00:00<?, ?it/s]"
      ]
     },
     "metadata": {},
     "output_type": "display_data"
    },
    {
     "name": "stdout",
     "output_type": "stream",
     "text": [
      "library_name: transformers, class_name: CLIPTokenizer\n",
      "library_name: transformers, class_name: CLIPTextModel\n",
      "library_name: transformers, class_name: T5EncoderModel\n"
     ]
    },
    {
     "data": {
      "application/vnd.jupyter.widget-view+json": {
       "model_id": "d6a52463d5664ace9b9972f17074fea1",
       "version_major": 2,
       "version_minor": 0
      },
      "text/plain": [
       "Loading checkpoint shards:   0%|          | 0/2 [00:00<?, ?it/s]"
      ]
     },
     "metadata": {},
     "output_type": "display_data"
    },
    {
     "name": "stderr",
     "output_type": "stream",
     "text": [
      "You set `add_prefix_space`. The tokenizer needs to be converted from the slow tokenizers\n"
     ]
    },
    {
     "name": "stdout",
     "output_type": "stream",
     "text": [
      "library_name: transformers, class_name: T5TokenizerFast\n",
      "library_name: diffusers, class_name: FlowMatchEulerDiscreteScheduler\n",
      "library_name: diffusers, class_name: AutoencoderKL\n",
      "library_name: diffusers, class_name: RfSolverFluxTransformer2DModel\n",
      "64 64 3\n",
      "Stage I: Fixed-point Inversion\n"
     ]
    },
    {
     "data": {
      "application/vnd.jupyter.widget-view+json": {
       "model_id": "560c87163df54f66aee2d8820d49ee2a",
       "version_major": 2,
       "version_minor": 0
      },
      "text/plain": [
       "  0%|          | 0/30 [00:00<?, ?it/s]"
      ]
     },
     "metadata": {},
     "output_type": "display_data"
    },
    {
     "name": "stdout",
     "output_type": "stream",
     "text": [
      "Stage II: Velocity Compensation\n"
     ]
    },
    {
     "data": {
      "application/vnd.jupyter.widget-view+json": {
       "model_id": "f06a2a017d404c4dbc5c8c1878df675c",
       "version_major": 2,
       "version_minor": 0
      },
      "text/plain": [
       "  0%|          | 0/30 [00:00<?, ?it/s]"
      ]
     },
     "metadata": {},
     "output_type": "display_data"
    },
    {
     "name": "stdout",
     "output_type": "stream",
     "text": [
      "64 64 3\n",
      "Denoising\n"
     ]
    },
    {
     "data": {
      "application/vnd.jupyter.widget-view+json": {
       "model_id": "bca317a8002646a7a42785418799deaf",
       "version_major": 2,
       "version_minor": 0
      },
      "text/plain": [
       "  0%|          | 0/30 [00:00<?, ?it/s]"
      ]
     },
     "metadata": {},
     "output_type": "display_data"
    },
    {
     "name": "stdout",
     "output_type": "stream",
     "text": [
      "已保存输出图像到 ./output/num_steps30_inject0_inversedTrue_guidance1.0_10.png，参数为:num_steps=30 inject=0 inversed=True guidance_scale=1.0\n"
     ]
    }
   ],
   "source": [
    "%run EditFT.py \\\n",
    "    --model_path \"/data/chx/FLUX.1-dev\" \\\n",
    "    --image_path \"/home/chx/mySrc/rf-inversion-diffuser/example/cat.png\" \\\n",
    "    --output_dir \"./output\" \\\n",
    "    --use_inversed_latents \\\n",
    "    --guidance_scale 1 \\\n",
    "    --num_steps 30 \\\n",
    "    --shift \\\n",
    "    --source_prompt \"a photo of a cat\" \\\n",
    "    --target_prompt \"a photo of a cat\" \\\n",
    "    --dtype \"bfloat16\" \\\n",
    "    --feature_path \"./feature\" \\\n",
    "    --inject 0"
   ]
  },
  {
   "cell_type": "code",
   "execution_count": null,
   "metadata": {},
   "outputs": [
    {
     "data": {
      "application/vnd.jupyter.widget-view+json": {
       "model_id": "8d2b50db88a645dcb84a3d531340c79f",
       "version_major": 2,
       "version_minor": 0
      },
      "text/plain": [
       "Loading pipeline components...:   0%|          | 0/7 [00:00<?, ?it/s]"
      ]
     },
     "metadata": {},
     "output_type": "display_data"
    },
    {
     "name": "stdout",
     "output_type": "stream",
     "text": [
      "library_name: transformers, class_name: T5EncoderModel\n"
     ]
    },
    {
     "data": {
      "application/vnd.jupyter.widget-view+json": {
       "model_id": "1161361397694d0b8274f818cb59e87a",
       "version_major": 2,
       "version_minor": 0
      },
      "text/plain": [
       "Loading checkpoint shards:   0%|          | 0/2 [00:00<?, ?it/s]"
      ]
     },
     "metadata": {},
     "output_type": "display_data"
    },
    {
     "name": "stdout",
     "output_type": "stream",
     "text": [
      "library_name: diffusers, class_name: FlowMatchEulerDiscreteScheduler\n",
      "library_name: transformers, class_name: CLIPTokenizer\n",
      "library_name: diffusers, class_name: RfSolverFluxTransformer2DModel\n"
     ]
    },
    {
     "name": "stderr",
     "output_type": "stream",
     "text": [
      "You set `add_prefix_space`. The tokenizer needs to be converted from the slow tokenizers\n"
     ]
    },
    {
     "name": "stdout",
     "output_type": "stream",
     "text": [
      "library_name: transformers, class_name: T5TokenizerFast\n",
      "library_name: diffusers, class_name: AutoencoderKL\n",
      "library_name: transformers, class_name: CLIPTextModel\n",
      "64 64 3\n"
     ]
    },
    {
     "data": {
      "application/vnd.jupyter.widget-view+json": {
       "model_id": "264278c4fbab421ab3971b0d6459b8e3",
       "version_major": 2,
       "version_minor": 0
      },
      "text/plain": [
       "  0%|          | 0/30 [00:00<?, ?it/s]"
      ]
     },
     "metadata": {},
     "output_type": "display_data"
    },
    {
     "name": "stdout",
     "output_type": "stream",
     "text": [
      "64 64 3\n"
     ]
    },
    {
     "data": {
      "application/vnd.jupyter.widget-view+json": {
       "model_id": "ba284832d9dd4f22be094d3274ec4450",
       "version_major": 2,
       "version_minor": 0
      },
      "text/plain": [
       "  0%|          | 0/30 [00:00<?, ?it/s]"
      ]
     },
     "metadata": {},
     "output_type": "display_data"
    }
   ],
   "source": [
    "%run RF-Solver-Edit.py \\\n",
    "    --model_path \"/data/chx/FLUX.1-dev\" \\\n",
    "    --image_path \"/home/chx/mySrc/rf-inversion-diffuser/example/cat.png\" \\\n",
    "    --output_dir \"./output\" \\\n",
    "    --use_inversed_latents \\\n",
    "    --guidance_scale 2 \\\n",
    "    --num_steps 30 \\\n",
    "    --shift \\\n",
    "    --source_prompt \"a photo of a cat\" \\\n",
    "    --target_prompt \"a photo of a tiger\" \\\n",
    "    --dtype \"bfloat16\" \\\n",
    "    --feature_path \"./feature\" \\\n",
    "    --inject 7"
   ]
  },
  {
   "cell_type": "code",
   "execution_count": null,
   "metadata": {},
   "outputs": [
    {
     "data": {
      "application/vnd.jupyter.widget-view+json": {
       "model_id": "233e9f5aad984d4ea88f2cb0e4e1525c",
       "version_major": 2,
       "version_minor": 0
      },
      "text/plain": [
       "Loading pipeline components...:   0%|          | 0/7 [00:00<?, ?it/s]"
      ]
     },
     "metadata": {},
     "output_type": "display_data"
    },
    {
     "name": "stdout",
     "output_type": "stream",
     "text": [
      "library_name: transformers, class_name: T5EncoderModel\n"
     ]
    },
    {
     "data": {
      "application/vnd.jupyter.widget-view+json": {
       "model_id": "d7e59aad546b4efb9acf157389886b8c",
       "version_major": 2,
       "version_minor": 0
      },
      "text/plain": [
       "Loading checkpoint shards:   0%|          | 0/2 [00:00<?, ?it/s]"
      ]
     },
     "metadata": {},
     "output_type": "display_data"
    },
    {
     "name": "stdout",
     "output_type": "stream",
     "text": [
      "library_name: diffusers, class_name: FlowMatchEulerDiscreteScheduler\n",
      "library_name: diffusers, class_name: RfSolverFluxTransformer2DModel\n"
     ]
    },
    {
     "name": "stderr",
     "output_type": "stream",
     "text": [
      "You set `add_prefix_space`. The tokenizer needs to be converted from the slow tokenizers\n"
     ]
    },
    {
     "name": "stdout",
     "output_type": "stream",
     "text": [
      "library_name: transformers, class_name: T5TokenizerFast\n",
      "library_name: transformers, class_name: CLIPTokenizer\n",
      "library_name: transformers, class_name: CLIPTextModel\n",
      "library_name: diffusers, class_name: AutoencoderKL\n",
      "64 64 3\n"
     ]
    },
    {
     "data": {
      "application/vnd.jupyter.widget-view+json": {
       "model_id": "5d7602b39c614d5dadf360592fde12c4",
       "version_major": 2,
       "version_minor": 0
      },
      "text/plain": [
       "  0%|          | 0/30 [00:00<?, ?it/s]"
      ]
     },
     "metadata": {},
     "output_type": "display_data"
    },
    {
     "name": "stdout",
     "output_type": "stream",
     "text": [
      "64 64 3\n"
     ]
    },
    {
     "data": {
      "application/vnd.jupyter.widget-view+json": {
       "model_id": "9ebce8c46bcc4f60823b5bf56b37acfc",
       "version_major": 2,
       "version_minor": 0
      },
      "text/plain": [
       "  0%|          | 0/30 [00:00<?, ?it/s]"
      ]
     },
     "metadata": {},
     "output_type": "display_data"
    },
    {
     "name": "stdout",
     "output_type": "stream",
     "text": [
      "已保存输出图像到 ./output/num_steps30_inject0_inversedTrue_guidance1.0_9.png，参数为:num_steps=30 inject=0 inversed=True guidance_scale=1.0\n"
     ]
    }
   ],
   "source": [
    "%run RF-Solver-Edit_3order_Runge-Kutta.py \\\n",
    "    --model_path \"/data/chx/FLUX.1-dev\" \\\n",
    "    --image_path \"/data/chx/EditEval_v1/Dataset/object_addition/3.jpg\" \\\n",
    "    --output_dir \"./output\" \\\n",
    "    --use_inversed_latents \\\n",
    "    --guidance_scale 1 \\\n",
    "    --num_steps 20 \\\n",
    "    --shift \\\n",
    "    --source_prompt \"A plant near a lamp on a table with a wooden clock on the wall\" \\\n",
    "    --target_prompt \"A plant near a lamp on a table with a wooden clock on the wall\" \\\n",
    "    --dtype \"bfloat16\" \\\n",
    "    --feature_path \"./feature\" \\\n",
    "    --inject 0"
   ]
  }
 ],
 "metadata": {
  "kernelspec": {
   "display_name": "RF-Solver-Edit-diffusers",
   "language": "python",
   "name": "python3"
  },
  "language_info": {
   "codemirror_mode": {
    "name": "ipython",
    "version": 3
   },
   "file_extension": ".py",
   "mimetype": "text/x-python",
   "name": "python",
   "nbconvert_exporter": "python",
   "pygments_lexer": "ipython3",
   "version": "3.10.15"
  }
 },
 "nbformat": 4,
 "nbformat_minor": 2
}
